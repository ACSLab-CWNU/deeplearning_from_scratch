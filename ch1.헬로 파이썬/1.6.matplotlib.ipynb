{
  "cells": [
    {
      "cell_type": "code",
      "metadata": {},
      "source": [
        "import numpy as np\n",
        "import matplotlib.pyplot as plt\n",
        "from matplotlib.image import imread\n",
        "\n",
        "# 1.6.1 \ub2e8\uc21c\ud55c \uadf8\ub798\ud504 \uadf8\ub9ac\uae30\n",
        "# \ub370\uc774\ud130 \uc900\ube44\n",
        "x = np.arange(0, 6, 0.1)\n",
        "y = np.sin(x)\n",
        "\n",
        "# \uadf8\ub798\ud504 \uadf8\ub9ac\uae30\n",
        "# plt.plot(x, y)\n",
        "# plt.show()\n",
        "\n",
        "# 1.6.2 pyplot\uc758 \uae30\ub2a5\n",
        "# \ub370\uc774\ud130 \uc900\ube44\n",
        "x = np.arange(0, 6, 0.1)\n",
        "y1 = np.sin(x)\n",
        "y2 = np.cos(x)\n",
        "\n",
        "# \uadf8\ub798\ud504 \uadf8\ub9ac\uae30\n",
        "plt.plot(x, y1, label=\"sin\")\n",
        "plt.plot(x, y2, linestyle=\"--\", label=\"cos\")\n",
        "plt.xlabel(\"x\")  # \ucd95\uc774\ub984\n",
        "plt.ylabel(\"y\")\n",
        "plt.title('sin & cos')\n",
        "plt.legend()\n",
        "plt.show()\n",
        "\n",
        "# 1.6.3 \uc774\ubbf8\uc9c0 \ud45c\uc2dc\ud558\uae30\n",
        "\n",
        "img = imread('../dataset/lena.png')\n",
        "\n",
        "plt.imshow(img)\n",
        "plt.show()\n"
      ],
      "outputs": [],
      "execution_count": null
    }
  ],
  "metadata": {
    "anaconda-cloud": {},
    "kernelspec": {
      "display_name": "Python 3",
      "language": "python",
      "name": "python3"
    },
    "language_info": {
      "codemirror_mode": {
        "name": "ipython",
        "version": 3
      },
      "file_extension": ".py",
      "mimetype": "text/x-python",
      "name": "python",
      "nbconvert_exporter": "python",
      "pygments_lexer": "ipython3",
      "version": "3.6.1"
    }
  },
  "nbformat": 4,
  "nbformat_minor": 4
}