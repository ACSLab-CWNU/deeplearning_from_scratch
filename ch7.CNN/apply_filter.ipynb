{
  "cells": [
    {
      "cell_type": "code",
      "metadata": {},
      "source": [
        "# coding: utf-8\n",
        "import sys, os\n",
        "sys.path.append(os.pardir)  # \ubd80\ubaa8 \ub514\ub809\ud130\ub9ac\uc758 \ud30c\uc77c\uc744 \uac00\uc838\uc62c \uc218 \uc788\ub3c4\ub85d \uc124\uc815\n",
        "import numpy as np\n",
        "import matplotlib.pyplot as plt\n",
        "from simple_convnet import SimpleConvNet\n",
        "from matplotlib.image import imread\n",
        "from common.layers import Convolution\n",
        "\n",
        "def filter_show(filters, nx=4, show_num=16):\n",
        "    \"\"\"\n",
        "    c.f. https://gist.github.com/aidiary/07d530d5e08011832b12#file-draw_weight-py\n",
        "    \"\"\"\n",
        "    FN, C, FH, FW = filters.shape\n",
        "    ny = int(np.ceil(show_num / nx))\n",
        "\n",
        "    fig = plt.figure()\n",
        "    fig.subplots_adjust(left=0, right=1, bottom=0, top=1, hspace=0.05, wspace=0.05)\n",
        "\n",
        "    for i in range(show_num):\n",
        "        ax = fig.add_subplot(4, 4, i+1, xticks=[], yticks=[])\n",
        "        ax.imshow(filters[i, 0], cmap=plt.cm.gray_r, interpolation='nearest')\n",
        "\n",
        "\n",
        "network = SimpleConvNet(input_dim=(1,28,28), \n",
        "                        conv_param = {'filter_num':30, 'filter_size':5, 'pad':0, 'stride':1},\n",
        "                        hidden_size=100, output_size=10, weight_init_std=0.01)\n",
        "\n",
        "# \ud559\uc2b5\ub41c \uac00\uc911\uce58\n",
        "network.load_params(\"params.pkl\")\n",
        "\n",
        "filter_show(network.params['W1'], 16)\n",
        "\n",
        "img = imread('../dataset/lena_gray.png')\n",
        "img = img.reshape(1, 1, *img.shape)\n",
        "\n",
        "fig = plt.figure()\n",
        "\n",
        "w_idx = 1\n",
        "\n",
        "for i in range(16):\n",
        "    w = network.params['W1'][i]\n",
        "    b = 0  # network.params['b1'][i]\n",
        "\n",
        "    w = w.reshape(1, *w.shape)\n",
        "    #b = b.reshape(1, *b.shape)\n",
        "    conv_layer = Convolution(w, b) \n",
        "    out = conv_layer.forward(img)\n",
        "    out = out.reshape(out.shape[2], out.shape[3])\n",
        "    \n",
        "    ax = fig.add_subplot(4, 4, i+1, xticks=[], yticks=[])\n",
        "    ax.imshow(out, cmap=plt.cm.gray_r, interpolation='nearest')\n",
        "\n",
        "plt.show()\n",
        "\n"
      ],
      "outputs": [],
      "execution_count": null
    }
  ],
  "metadata": {
    "anaconda-cloud": {},
    "kernelspec": {
      "display_name": "Python 3",
      "language": "python",
      "name": "python3"
    },
    "language_info": {
      "codemirror_mode": {
        "name": "ipython",
        "version": 3
      },
      "file_extension": ".py",
      "mimetype": "text/x-python",
      "name": "python",
      "nbconvert_exporter": "python",
      "pygments_lexer": "ipython3",
      "version": "3.6.1"
    }
  },
  "nbformat": 4,
  "nbformat_minor": 4
}