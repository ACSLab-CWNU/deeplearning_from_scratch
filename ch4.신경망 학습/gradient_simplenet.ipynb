{
  "cells": [
    {
      "cell_type": "code",
      "metadata": {},
      "source": [
        "import sys\n",
        "import os\n",
        "import numpy as np\n",
        "sys.path.append(os.pardir)\n",
        "from common.functions import softmax, cross_entropy_error\n",
        "from common.gradient import numerical_gradient\n",
        "\n",
        "\n",
        "# 4.4.2 \uc2e0\uacbd\ub9dd\uc5d0\uc11c\uc758 \uae30\uc6b8\uae30\n",
        "class simpleNet:\n",
        "    \"\"\"docstring for simpleNet\"\"\"\n",
        "    def __init__(self):\n",
        "        self.W = np.random.randn(2, 3)  # \uc815\uaddc\ubd84\ud3ec\ub85c \ucd08\uae30\ud654\n",
        "\n",
        "    def predict(self, x):\n",
        "        return np.dot(x, self.W)\n",
        "\n",
        "    def loss(self, x, t):\n",
        "        z = self.predict(x)\n",
        "        y = softmax(z)\n",
        "        loss = cross_entropy_error(y, t)\n",
        "\n",
        "        return loss\n",
        "\n",
        "\n",
        "net = simpleNet()\n",
        "print(net.W)  # \uac00\uc911\uce58 \ub9e4\uac1c\ubcc0\uc218(\ub79c\ub364)\n",
        "x = np.array([0.6, 0.9])\n",
        "p = net.predict(x)\n",
        "print(p)\n",
        "print(np.argmax(p))  # \ucd5c\ub313\uac12\uc758 \uc778\ub371\uc2a4\n",
        "\n",
        "t = np.array([0, 0, 1])  # \uc815\ub2f5 \ub808\uc774\ube14\n",
        "print(net.loss(x, t))\n",
        "\n",
        "\n",
        "def f(W):\n",
        "    return net.loss(x, t)\n",
        "\n",
        "\n",
        "dW = numerical_gradient(f, net.W)\n",
        "print(dW)\n"
      ],
      "outputs": [],
      "execution_count": null
    }
  ],
  "metadata": {
    "anaconda-cloud": {},
    "kernelspec": {
      "display_name": "Python 3",
      "language": "python",
      "name": "python3"
    },
    "language_info": {
      "codemirror_mode": {
        "name": "ipython",
        "version": 3
      },
      "file_extension": ".py",
      "mimetype": "text/x-python",
      "name": "python",
      "nbconvert_exporter": "python",
      "pygments_lexer": "ipython3",
      "version": "3.6.1"
    }
  },
  "nbformat": 4,
  "nbformat_minor": 4
}