{
  "cells": [
    {
      "cell_type": "code",
      "metadata": {},
      "source": [
        "import numpy as np\n",
        "import sys\n",
        "import os\n",
        "sys.path.append(os.pardir)\n",
        "from dataset.mnist import load_mnist\n",
        "\n",
        "# 4.2.3 \ubbf8\ub2c8\ubc30\uce58 \ud559\uc2b5\n",
        "# \ud6c8\ub828 \ub370\uc774\ud130 \uc804\uccb4\uc5d0 \ub300\ud55c \uc624\ucc28\ud568\uc218\n",
        "# E = -1/N * \u2211 _n (\u2211 _k (tk * log(yk)))\n",
        "# N : \ub370\uc774\ud130\uc758 \uac1c\uc218\n",
        "# \ud6c8\ub828 \ub370\uc774\ud130 \uc804\uccb4\uc5d0 \ub300\ud55c \uc190\uc2e4 \ud568\uc218\ub97c \uacc4\uc0b0\ud558\uae30\uc5d0\ub294 \uc2dc\uac04\uc774 \uc624\ub798\uac78\ub9ac\uae30 \ub54c\ubb38\uc5d0\n",
        "# \uc77c\ubd80\ub97c \ucd94\ub824 \uc804\uccb4\uc758 \uadfc\uc0ac\uce58\ub85c \uc774\uc6a9\ud560 \uc218 \uc788\ub2e4.\n",
        "(x_train, t_train), (x_test, t_test) = \\\n",
        "    load_mnist(normalize=True, one_hot_label=False)\n",
        "\n",
        "print(x_train.shape)  # (60000, 784)\n",
        "print(t_train.shape)  # \uc6d0-\ud56b \uc778\ucf54\ub529 \ub41c \uc815\ub2f5 \ub808\uc774\ube14 (60000, 10)\n",
        "\n",
        "# \ubb34\uc791\uc704 10\uac1c \ucd94\ucd9c\n",
        "train_size = x_train.shape[0]\n",
        "batch_size = 10\n",
        "batch_mask = np.random.choice(train_size, batch_size)\n",
        "x_batch = x_train[batch_mask]\n",
        "t_batch = t_train[batch_mask]\n",
        "\n",
        "\n",
        "# 4.2.4 (\ubc30\uce58\uc6a9) \uad50\ucc28 \uc5d4\ud2b8\ub85c\ud53c \uc624\ucc28 \uad6c\ud604\ud558\uae30\n",
        "def cross_entropy_error(y, t):\n",
        "    if y.ndim == 1:\n",
        "        t = t.reshape(1, t.size)\n",
        "        y = y.reshape(1, y.size)\n",
        "\n",
        "    batch_size = y.shape[0]\n",
        "    return -np.sum(t * np.log(y[np.arange(batch_size), t])) / batch_size\n",
        "\n",
        "\n",
        "# 4.2.5 \uc65c \uc190\uc2e4 \ud568\uc218\ub97c \uc124\uc815\ud558\ub294\uac00?\n",
        "# \uc2e0\uacbd\ub9dd\uc744 \ud559\uc2b5\ud560 \ub54c \uc815\ud655\ub3c4\ub97c \uc9c0\ud45c\ub85c \uc0bc\uc544\uc11c\ub294 \uc548 \ub41c\ub2e4.\n",
        "# \uc815\ud655\ub3c4\ub97c \uc9c0\ud45c\ub85c \ud558\uba74 \ub9e4\uac1c\ubcc0\uc218\uc758 \ubbf8\ubd84\uc774 \ub300\ubd80\ubd84\uc758 \uc7a5\uc18c\uc5d0\uc11c 0\uc774 \ub418\uae30 \ub54c\ubb38\uc774\ub2e4.\n",
        "# (\ub9e4\uac1c\ubcc0\uc218\uc758 \ubbf8\uc18c\ud55c \ubcc0\ud654\uc5d0\ub294 \uac70\uc758 \ubc18\uc751\uc744 \ubcf4\uc774\uc9c0 \uc54a\uace0 \uadf8 \uac12\uc774 \ubd84\uc5f0\uc18d\uc801\uc73c\ub85c \ubcc0\ud654)\n"
      ],
      "outputs": [],
      "execution_count": null
    }
  ],
  "metadata": {
    "anaconda-cloud": {},
    "kernelspec": {
      "display_name": "Python 3",
      "language": "python",
      "name": "python3"
    },
    "language_info": {
      "codemirror_mode": {
        "name": "ipython",
        "version": 3
      },
      "file_extension": ".py",
      "mimetype": "text/x-python",
      "name": "python",
      "nbconvert_exporter": "python",
      "pygments_lexer": "ipython3",
      "version": "3.6.1"
    }
  },
  "nbformat": 4,
  "nbformat_minor": 4
}