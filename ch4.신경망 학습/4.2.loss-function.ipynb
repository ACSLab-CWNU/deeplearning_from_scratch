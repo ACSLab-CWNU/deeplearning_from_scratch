{
  "cells": [
    {
      "cell_type": "code",
      "metadata": {},
      "source": [
        "import numpy as np\n",
        "'''\n",
        "\uc190\uc2e4 \ud568\uc218loss function : \uc2e0\uacbd\ub9dd \uc131\ub2a5\uc758 '\ub098\uc068'\uc744 \ub098\ud0c0\ub0b4\ub294 \uc9c0\ud45c.\n",
        "\uc77c\ubc18\uc801\uc73c\ub85c \ud3c9\uade0 \uc81c\uacf1 \uc624\ucc28\uc640 \uad50\ucc28 \uc5d4\ud2b8\ub85c\ud53c \uc624\ucc28\ub97c \uc0ac\uc6a9\n",
        "'''\n",
        "\n",
        "\n",
        "# 4.2.1 \ud3c9\uade0 \uc81c\uacf1 \uc624\ucc28\n",
        "# E = 1/2 * \u2211 _k (yk-tk)\u00b2\n",
        "# yk : \uc2e0\uacbd\ub9dd\uc758 \ucd9c\ub825\n",
        "# tk : \uc815\ub2f5 \ub808\uc774\ube14\n",
        "# k : \ub370\uc774\ud130\uc758 \ucc28\uc6d0 \uc218\n",
        "def mean_squared_error(y, t):\n",
        "    return 0.5 * np.sum((y-t)**2)\n",
        "\n",
        "\n",
        "# \uc815\ub2f5\uc740 '2'\n",
        "t = [0, 0, 1, 0, 0, 0, 0, 0, 0, 0]\n",
        "\n",
        "# ex1 '2'\uc77c \ud655\ub960\uc774 \uac00\uc7a5 \ub192\ub2e4\uace0 \ucd94\uc815\ud568(0.6)\n",
        "y = [0.1, 0.05, 0.6, 0.0, 0.05, 0.1, 0.0, 0.1, 0.0, 0.0]\n",
        "mse = mean_squared_error(np.array(y), np.array(t))\n",
        "print(mse)  # 0.0975\n",
        "# ex2 '7'\uc77c \ud655\ub960\uc774 \uac00\uc7a5 \ub192\ub2e4\uace0 \ucd94\uc815\ud568(0.6)\n",
        "y = [0.1, 0.05, 0.1, 0.0, 0.05, 0.1, 0.0, 0.6, 0.0, 0.0]\n",
        "mse = mean_squared_error(np.array(y), np.array(t))\n",
        "print(mse)  # 0.5975\n",
        "\n",
        "\n",
        "# 4.2.2 \uad50\ucc28 \uc5d4\ud2b8\ub85c\ud53c \uc624\ucc28\n",
        "# E = -\u2211 _k (tk * log(yk))\n",
        "# log : \uc790\uc5f0\ub85c\uadf8\n",
        "# yk : \uc2e0\uacbd\ub9dd\uc758 \ucd9c\ub825\n",
        "# tk : \uc815\ub2f5 \ub808\uc774\ube14(one-hot encoding)\n",
        "# k : \ub370\uc774\ud130\uc758 \ucc28\uc6d0 \uc218\n",
        "# \uc2e4\uc9c8\uc801\uc73c\ub85c \uc815\ub2f5\uc77c\ub54c\uc758 \ucd94\uc815\uc758 \uc790\uc5f0\ub85c\uadf8\ub97c \uacc4\uc0b0\ud558\ub294 \uc2dd\uc774 \ub428\n",
        "def cross_entropy_error(y, t):\n",
        "    delta = 1e-7  # 0\uc77c\ub54c -\ubb34\ud55c\ub300\uac00 \ub418\uc9c0 \uc54a\uae30 \uc704\ud574 \uc791\uc740 \uac12\uc744 \ub354\ud568\n",
        "    return -np.sum(t * np.log(y + delta))\n",
        "\n",
        "\n",
        "# \ub3d9\uc77c\ud55c \uacc4\uc0b0\n",
        "t = [0, 0, 1, 0, 0, 0, 0, 0, 0, 0]\n",
        "y = [0.1, 0.05, 0.6, 0.0, 0.05, 0.1, 0.0, 0.1, 0.0, 0.0]\n",
        "cee = cross_entropy_error(np.array(y), np.array(t))\n",
        "print(cee)  # 0.510825457099\n",
        "y = [0.1, 0.05, 0.1, 0.0, 0.05, 0.1, 0.0, 0.6, 0.0, 0.0]\n",
        "cee = cross_entropy_error(np.array(y), np.array(t))\n",
        "print(cee)  # 2.30258409299\n"
      ],
      "outputs": [],
      "execution_count": null
    }
  ],
  "metadata": {
    "anaconda-cloud": {},
    "kernelspec": {
      "display_name": "Python 3",
      "language": "python",
      "name": "python3"
    },
    "language_info": {
      "codemirror_mode": {
        "name": "ipython",
        "version": 3
      },
      "file_extension": ".py",
      "mimetype": "text/x-python",
      "name": "python",
      "nbconvert_exporter": "python",
      "pygments_lexer": "ipython3",
      "version": "3.6.1"
    }
  },
  "nbformat": 4,
  "nbformat_minor": 4
}