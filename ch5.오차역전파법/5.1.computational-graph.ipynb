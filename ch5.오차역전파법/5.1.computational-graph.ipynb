{
  "cells": [
    {
      "cell_type": "markdown",
      "metadata": {},
      "source": [
        "\uacc4\uc0b0 \uadf8\ub798\ud504computational graph : \uacc4\uc0b0 \uacfc\uc815\uc744 \uadf8\ub798\ud504\ub85c \ub098\ud0c0\ub0b8 \uac83. \ubcf5\uc218\uc758 \ub178\ub4dc\uc640 \uc5d0\uc9c0\ub85c \ud45c\ud604\ub41c\ub2e4.\n",
        "\u2192\u2190\u2191\u2193\u2197\u2199\u2196\u2198 \u00d7 \u2211\u221e\u00b2\n",
        "\"\"\"\n",
        "\n",
        "# 5.1.1 \uacc4\uc0b0 \uadf8\ub798\ud504\ub85c \ud480\ub2e4\n",
        "\"\"\"\n",
        "\ubb38\uc81c1 : \uc288\ud37c\uc5d0\uc11c 1\uac1c 100\uc6d0\uc778 \uc0ac\uacfc\ub97c 2\uac1c \uc0ac\uace0 \uc18c\ube44\uc138\uac00 10%\uc77c \ub54c, \uc9c0\ubd88 \uae08\uc561\uc740?\n",
        "100 * 2 * 1.1 = 220\n",
        "\n",
        "       200\n",
        "100 \u2192 \u00d7 \u2192  \u00d7 \u2192 220\n",
        "2   \u2197     \u2197\n",
        "       1.1\n",
        "\n",
        "\ubb38\uc81c2 : \uc288\ud37c\uc5d0\uc11c 1\uac1c 100\uc6d0\uc778 \uc0ac\uacfc\ub97c 2\uac1c \uc0ac\uace0 150\uc6d0\uc778 \uade4\uc744 3\uac1c \uc0c0\ub2e4. \uc18c\ube44\uc138\uac00 10%\uc77c \ub54c, \uc9c0\ubd88 \uae08\uc561\uc740?\n",
        "((100 * 2) + (150 * 3)) * 1.1 = 715\n",
        "\n",
        "3   \u2198\n",
        "150 \u2192 \u00d7 \u2198\n",
        "100 \u2192 \u00d7 \u2192  + \u2192 \u00d7 \u2192 715\n",
        "2   \u2197          \u2197\n",
        "           1.1\n",
        "\uc21c\uc804\ud30cforward propagation : \uacc4\uc0b0\uc744 \uc67c\ucabd\uc5d0\uc11c \uc624\ub978\ucabd\uc73c\ub85c \uc9c4\ud589\n",
        "\uc5ed\uc804\ud30cbackward propagation : \uacc4\uc0b0\uc744 \ubc18\ub300 \ubc29\ud5a5\uc73c\ub85c \uc9c4\ud589. \ubbf8\ubd84\uc744 \ud6a8\uc728\uc801\uc73c\ub85c \uacc4\uc0b0\ud560 \uc218 \uc788\ub2e4.\n",
        "\"\"\"\n",
        "\n",
        "# 5.1.2 \uad6d\uc18c\uc801 \uacc4\uc0b0\n",
        "\"\"\"\n",
        "\uc804\uccb4 \uacc4\uc0b0\uc774 \ubcf5\uc7a1\ud558\ub354\ub77c\ub3c4 \uac01 \ub2e8\uacc4\uc758 \uc77c\uc740 \ud574\ub2f9 \ub178\ub4dc\uc758 \uad6d\uc18c\uc801 \uacc4\uc0b0\uc774\ub2e4.\n",
        "\"\"\"\n",
        "\n",
        "\n",
        "# 5.1.3 \uc65c \uacc4\uc0b0 \uadf8\ub798\ud504\ub85c \ud478\ub294\uac00?\n",
        "\"\"\"\n",
        "\ubb38\uc81c 1\uc5d0\uc11c \uc0ac\uacfc \uac00\uaca9\uc774 \uc624\ub97c \ub54c \ucd5c\uc885 \uac00\uaca9\uc5d0 \ubbf8\uce58\ub294 \uc601\ud5a5(=\uc0ac\uacfc \uac00\uaca9\uc5d0 \ub300\ud55c \uc9c0\ubd88 \uae08\uc561\uc758 \ubbf8\ubd84)\uc744 \uad6c\ud558\uace0 \uc2f6\ub2e4.\n",
        "\uc0ac\uacfc \uac12 : x, \uc9c0\ubd88 \uae08\uc561 : L\uc77c \ub54c, \u2202L/\u2202x\ub97c \uad6c\ud558\ub294 \uac83.\n",
        "\uacc4\uc0b0 \uadf8\ub798\ud504\uc758 \uc5ed\uc804\ud30c\ub97c \uc774\uc6a9\ud574\uc11c \uad6c\ud560 \uc218 \uc788\ub2e4.\n",
        "       1.1\n",
        "2.2 \u2190 \u00d7 \u2190  \u00d7 \u2190 1\n",
        "2   \u2197     \u2197\n",
        "       1.1\n",
        "\u2202L/\u2202x = 2.2\n",
        "\ub530\ub77c\uc11c, \uc0ac\uacfc\uac00 1\uc6d0 \uc624\ub974\uba74 \ucd5c\uc885 \uae08\uc561\uc740 2.2\uc6d0 \uc624\ub978\ub2e4."
      ]
    }
  ],
  "metadata": {
    "anaconda-cloud": {},
    "kernelspec": {
      "display_name": "Python 3",
      "language": "python",
      "name": "python3"
    },
    "language_info": {
      "codemirror_mode": {
        "name": "ipython",
        "version": 3
      },
      "file_extension": ".py",
      "mimetype": "text/x-python",
      "name": "python",
      "nbconvert_exporter": "python",
      "pygments_lexer": "ipython3",
      "version": "3.6.1"
    }
  },
  "nbformat": 4,
  "nbformat_minor": 4
}