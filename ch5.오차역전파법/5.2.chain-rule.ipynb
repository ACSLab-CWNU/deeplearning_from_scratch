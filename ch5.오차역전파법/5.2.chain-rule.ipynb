{
  "cells": [
    {
      "cell_type": "code",
      "metadata": {},
      "source": [
        "# 5.2.1 \uacc4\uc0b0 \uadf8\ub798\ud504\uc758 \uc5ed\uc804\ud30c\n",
        "\"\"\"\n",
        "y = f(x)\n",
        "x       \u2192 f \u2192 y\n",
        "E*\u2202y/\u2202x \u2190 f \u2190 E\n",
        "\"\"\"\n",
        "\n",
        "\n",
        "# 5.2.2 \uc5f0\uc1c4\ubc95\uce59\uc774\ub780?\n",
        "\"\"\"\n",
        "\ud569\uc131 \ud568\uc218 : \uc5ec\ub7ec \ud568\uc218\ub85c \uad6c\uc131\ub41c \ud568\uc218\n",
        "z = (x + y)\u00b2\n",
        "\ub610\ub294\n",
        "z = t\u00b2\n",
        "t = x + y\n",
        "\n",
        "\uc5f0\uc1c4\ubc95\uce59 : \ud569\uc131 \ud568\uc218\uc758 \ubbf8\ubd84\uc740 \ud569\uc131 \ud568\uc218\ub97c \uad6c\uc131\ud558\ub294 \uac01 \ud568\uc218\uc758 \ubbf8\ubd84\uc758 \uacf1\uc73c\ub85c \ub098\ud0c0\ub0bc \uc218 \uc788\ub2e4.\n",
        "\u2202z/\u2202x = \u2202z/\u2202t*\u2202t/\u2202x\n",
        "\u2202z/\u2202t = 2t\n",
        "\u2202t/\u2202x = 1\n",
        "\ub530\ub77c\uc11c\n",
        "\u2202z/\u2202x = \u2202z/\u2202t*\u2202t/\u2202x = 2t*1 = 2(x+y)\n",
        "\"\"\"\n",
        "\n",
        "# 5.2.3 \uc5f0\uc1c4\ubc95\uce59\uacfc \uacc4\uc0b0 \uadf8\ub798\ud504\n",
        "\"\"\"\n",
        "x \u2198   t\n",
        "    + \u2192 **2 \u2192 z\n",
        "y \u2197\n",
        "\n",
        "\u2202z/\u2202z*\u2202z/\u2202t*\u2202t/\u2202x\n",
        "  \u2196    \u2202z/\u2202z*\u2202z/\u2202t\n",
        "    +      \u2190      **2 \u2190 \u2202z/\u2202z\n",
        "y \u2197\n",
        "\"\"\"\n",
        "\n",
        "# 5.3 \uc5ed\uc804\ud30c\n",
        "# 5.3.1 \ub367\uc148 \ub178\ub4dc\uc758 \uc5ed\uc804\ud30c\n",
        "\"\"\"\n",
        "z = x + y\n",
        "\u2202z/\u2202x = 1\n",
        "\u2202z/\u2202y = 1\n",
        "\ub530\ub77c\uc11c \uc0c1\ub958\uc5d0\uc11c \uc628 \uac12(\u2202L/\u2202z)\uc744 \uadf8\ub300\ub85c \ud558\ub958\ub85c \uc804\ub2ec\ud55c\ub2e4.\n",
        "\"\"\"\n",
        "\n",
        "# 5.3.2 \uacf1\uc148 \ub178\ub4dc\uc758 \uc5ed\uc804\ud30c\n",
        "\"\"\"\n",
        "z = xy\n",
        "\u2202z/\u2202x = y\n",
        "\u2202z/\u2202y = x\n",
        "\ub530\ub77c\uc11c \uc0c1\ub958\uc5d0\uc11c \uc628 \uac12\uc5d0 \uc21c\uc804\ud30c \ub54c\uc758 \uc785\ub825 \uc2e0\ud638\ub97c \uc11c\ub85c \ubc14\uafbc \uac12\uc744 \uacf1\ud574 \ud558\ub958\ub85c \uc804\ub2ec\ud55c\ub2e4.\n",
        "\uc21c\ubc29\ud5a5 \uc785\ub825 \uc2e0\ud638\uc758 \uac12\uc744 \uc800\uc7a5\ud574 \ub458 \ud544\uc694\uac00 \uc788\ub2e4.\n",
        "\"\"\"\n"
      ],
      "outputs": [],
      "execution_count": null
    }
  ],
  "metadata": {
    "anaconda-cloud": {},
    "kernelspec": {
      "display_name": "Python 3",
      "language": "python",
      "name": "python3"
    },
    "language_info": {
      "codemirror_mode": {
        "name": "ipython",
        "version": 3
      },
      "file_extension": ".py",
      "mimetype": "text/x-python",
      "name": "python",
      "nbconvert_exporter": "python",
      "pygments_lexer": "ipython3",
      "version": "3.6.1"
    }
  },
  "nbformat": 4,
  "nbformat_minor": 4
}