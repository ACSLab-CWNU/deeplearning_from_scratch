{
  "cells": [
    {
      "cell_type": "code",
      "metadata": {},
      "source": [
        "# coding: utf-8\n",
        "import numpy as np\n",
        "import matplotlib.pyplot as plt\n",
        "\n",
        "\n",
        "def sigmoid(x):\n",
        "    return 1 / (1 + np.exp(-x))\n",
        "\n",
        "\n",
        "def ReLU(x):\n",
        "    return np.maximum(0, x)\n",
        "\n",
        "\n",
        "def tanh(x):\n",
        "    return np.tanh(x)\n",
        "\n",
        "\n",
        "input_data = np.random.randn(1000, 100)  # 1000\uac1c\uc758 \ub370\uc774\ud130\n",
        "node_num = 100  # \uac01 \uc740\ub2c9\uce35\uc758 \ub178\ub4dc(\ub274\ub7f0) \uc218\n",
        "hidden_layer_size = 5  # \uc740\ub2c9\uce35\uc774 5\uac1c\n",
        "activations = {}  # \uc774\uacf3\uc5d0 \ud65c\uc131\ud654 \uacb0\uacfc\ub97c \uc800\uc7a5\n",
        "\n",
        "x = input_data\n",
        "\n",
        "for i in range(hidden_layer_size):\n",
        "    if i != 0:\n",
        "        x = activations[i-1]\n",
        "\n",
        "    # \ucd08\uae43\uac12\uc744 \ub2e4\uc591\ud558\uac8c \ubc14\uafd4\uac00\uba70 \uc2e4\ud5d8\ud574\ubcf4\uc790\uff01\n",
        "    # w = np.random.randn(node_num, node_num) * 1\n",
        "    # w = np.random.randn(node_num, node_num) * 0.01\n",
        "    # w = np.random.randn(node_num, node_num) * np.sqrt(1.0 / node_num)\n",
        "    w = np.random.randn(node_num, node_num) * np.sqrt(2.0 / node_num)\n",
        "\n",
        "    a = np.dot(x, w)\n",
        "\n",
        "    # \ud65c\uc131\ud654 \ud568\uc218\ub3c4 \ubc14\uafd4\uac00\uba70 \uc2e4\ud5d8\ud574\ubcf4\uc790\uff01\n",
        "    z = sigmoid(a)\n",
        "    # z = ReLU(a)\n",
        "    # z = tanh(a)\n",
        "\n",
        "    activations[i] = z\n",
        "\n",
        "# \ud788\uc2a4\ud1a0\uadf8\ub7a8 \uadf8\ub9ac\uae30\n",
        "for i, a in activations.items():\n",
        "    plt.subplot(1, len(activations), i+1)\n",
        "    plt.title(str(i+1) + \"-layer\")\n",
        "    if i != 0:\n",
        "        plt.yticks([], [])\n",
        "    # plt.xlim(0.1, 1)\n",
        "    # plt.ylim(0, 7000)\n",
        "    plt.hist(a.flatten(), 30, range=(0, 1))\n",
        "\n",
        "plt.show()\n"
      ],
      "outputs": [],
      "execution_count": null
    }
  ],
  "metadata": {
    "anaconda-cloud": {},
    "kernelspec": {
      "display_name": "Python 3",
      "language": "python",
      "name": "python3"
    },
    "language_info": {
      "codemirror_mode": {
        "name": "ipython",
        "version": 3
      },
      "file_extension": ".py",
      "mimetype": "text/x-python",
      "name": "python",
      "nbconvert_exporter": "python",
      "pygments_lexer": "ipython3",
      "version": "3.6.1"
    }
  },
  "nbformat": 4,
  "nbformat_minor": 4
}