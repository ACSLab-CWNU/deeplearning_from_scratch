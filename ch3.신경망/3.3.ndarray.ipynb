{
  "cells": [
    {
      "cell_type": "code",
      "metadata": {},
      "source": [
        "import numpy as np\n",
        "\n",
        "# 3.3.1 \ub2e4\ucc28\uc6d0 \ubc30\uc5f4\n",
        "A = np.array([1, 2, 3, 4])\n",
        "print(A)  # [1 2 3 4]\n",
        "print(np.ndim(A))  # 1\n",
        "print(A.shape)  # (4,)\n",
        "\n",
        "B = np.array([[1, 2], [3, 4], [5, 6]])\n",
        "print(B)\n",
        "print(np.ndim(B))  # 2\n",
        "print(B.shape)  # (3, 2)\n",
        "\n",
        "# 3.3.2 \ud589\ub82c\uc758 \ub0b4\uc801(\ud589\ub82c \uacf1/\uc2a4\uce7c\ub77c \uacf1)\n",
        "A = np.array([[1, 2], [3, 4]])\n",
        "B = np.array([[5, 6], [7, 8]])\n",
        "print(np.dot(A, B))\n",
        "'''\n",
        "[[19 22]\n",
        " [43 50]]\n",
        "'''\n",
        "\n",
        "A = np.array([[1, 2, 3], [4, 5, 6]])  # (2, 3)\n",
        "B = np.array([[1, 2], [3, 4], [5, 6]])  # (3, 2)\n",
        "print(np.dot(A, B))  # (2, 2)\n",
        "'''\n",
        "[[22 28]\n",
        " [49 64]]\n",
        "'''\n",
        "\n",
        "X = np.array([1, 2])  # (2,)\n",
        "W = np.array([[1, 3, 5], [2, 4, 6]])  # (2, 3)\n",
        "Y = np.dot(X, W)\n",
        "print(Y)  # [5 11 17]\n"
      ],
      "outputs": [],
      "execution_count": null
    }
  ],
  "metadata": {
    "anaconda-cloud": {},
    "kernelspec": {
      "display_name": "Python 3",
      "language": "python",
      "name": "python3"
    },
    "language_info": {
      "codemirror_mode": {
        "name": "ipython",
        "version": 3
      },
      "file_extension": ".py",
      "mimetype": "text/x-python",
      "name": "python",
      "nbconvert_exporter": "python",
      "pygments_lexer": "ipython3",
      "version": "3.6.1"
    }
  },
  "nbformat": 4,
  "nbformat_minor": 4
}