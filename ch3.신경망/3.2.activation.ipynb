{
 "cells": [
  {
   "cell_type": "code",
   "execution_count": null,
   "metadata": {},
   "outputs": [],
   "source": [
    "import numpy as np\n",
    "import matplotlib.pylab as plt\n",
    "\n",
    "# 3.2.1 시그모이드 함수\n",
    "# h(x) = 1/(1 + exp(-x))\n",
    "\n",
    "\n",
    "# 3.2.2 계단 함수 구현하기\n",
    "# 계단 함수 : 입력값을 경계로 출력이 바뀌는 함수\n",
    "'''\n",
    "def step_function(x):\n",
    "    if x > 0:\n",
    "        return 1\n",
    "    else:\n",
    "        return 0\n",
    "'''\n",
    "\n",
    "\n",
    "# numpy 배열을 위한 구현\n",
    "def step_function(x):\n",
    "    # y = x > 0\n",
    "    # return y.astype(np.int)\n",
    "    return np.array(x > 0, dtype=np.int)\n",
    "\n",
    "\n",
    "# 3.2.3 계단 함수의 그래프\n",
    "x = np.arange(-5.0, 5.0, 0.1)\n",
    "y = step_function(x)\n",
    "\n",
    "plt.plot(x, y)\n",
    "plt.ylim(-0.1, 1.1)  # y축의 범위 지정\n",
    "# plt.show()\n",
    "\n",
    "\n",
    "# 3.2.4 시그모이드 함수 구현하기\n",
    "def sigmoid(x):\n",
    "    return 1 / (1 + np.exp(-x))\n",
    "\n",
    "\n",
    "x = np.arange(-5.0, 5.0, 0.1)\n",
    "y = sigmoid(x)\n",
    "\n",
    "plt.plot(x, y)\n",
    "plt.ylim(-0.1, 1.1)  # y축의 범위 지정\n",
    "plt.show()\n",
    "\n",
    "# 3.2.6 비선형 함수\n",
    "# 선형 함수는 은닉층이 없는 네트워크로 표현할 수 있다.\n",
    "# 층을 쌓는 혜택을 얻고 싶다면 활성화 함수로는 비선형 함수를 사용해야 한다.\n",
    "\n",
    "\n",
    "# 3.2.7 ReLU 함수\n",
    "# Rectified Linear Unit - 입력이 0을 넘으면 입력 그대로, 아니면 0을 출력하는 함수\n",
    "def relu(x):\n",
    "    return np.maximum(0, x)\n"
   ]
  }
 ],
 "metadata": {
  "anaconda-cloud": {},
  "kernelspec": {
   "display_name": "Python 3",
   "language": "python",
   "name": "python3"
  },
  "language_info": {
   "codemirror_mode": {
    "name": "ipython",
    "version": 3
   },
   "file_extension": ".py",
   "mimetype": "text/x-python",
   "name": "python",
   "nbconvert_exporter": "python",
   "pygments_lexer": "ipython3",
   "version": "3.7.3"
  }
 },
 "nbformat": 4,
 "nbformat_minor": 4
}
